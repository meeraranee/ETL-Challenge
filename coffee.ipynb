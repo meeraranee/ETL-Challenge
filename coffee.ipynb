{
 "cells": [
  {
   "cell_type": "code",
   "execution_count": 2,
   "metadata": {},
   "outputs": [],
   "source": [
    "import pandas as pd"
   ]
  },
  {
   "cell_type": "code",
   "execution_count": 3,
   "metadata": {},
   "outputs": [],
   "source": [
    "path = \"COFFEE.csv\""
   ]
  },
  {
   "cell_type": "code",
   "execution_count": 4,
   "metadata": {},
   "outputs": [],
   "source": [
    "coff_df = pd.read_csv(path)"
   ]
  },
  {
   "cell_type": "code",
   "execution_count": 5,
   "metadata": {},
   "outputs": [
    {
     "output_type": "execute_result",
     "data": {
      "text/plain": "   Unnamed: 0  Species                     Owner country_of_origin  \\\n0           1  Arabica                 metad plc          Ethiopia   \n1           2  Arabica                 metad plc          Ethiopia   \n2           3  Arabica  grounds for health admin         Guatemala   \n3           4  Arabica       yidnekachew dabessa          Ethiopia   \n4           5  Arabica                 metad plc          Ethiopia   \n\n                                  Farm.Name Lot.Number       Mill ICO.Number  \\\n0                                 metad plc        NaN  metad plc  2014/2015   \n1                                 metad plc        NaN  metad plc  2014/2015   \n2  san marcos barrancas \"san cristobal cuch        NaN        NaN        NaN   \n3     yidnekachew dabessa coffee plantation        NaN    wolensu        NaN   \n4                                 metad plc        NaN  metad plc  2014/2015   \n\n                                 company       Altitude  ...  \\\n0      metad agricultural developmet plc      1950-2200  ...   \n1      metad agricultural developmet plc      1950-2200  ...   \n2                                    NaN  1600 - 1800 m  ...   \n3  yidnekachew debessa coffee plantation      1800-2200  ...   \n4      metad agricultural developmet plc      1950-2200  ...   \n\n         Expiration                  Certification.Body  \\\n0   April 3rd, 2016  METAD Agricultural Development plc   \n1   April 3rd, 2016  METAD Agricultural Development plc   \n2    May 31st, 2011        Specialty Coffee Association   \n3  March 25th, 2016  METAD Agricultural Development plc   \n4   April 3rd, 2016  METAD Agricultural Development plc   \n\n                      Certification.Address  \\\n0  309fcf77415a3661ae83e027f7e5f05dad786e44   \n1  309fcf77415a3661ae83e027f7e5f05dad786e44   \n2  36d0d00a3724338ba7937c52a378d085f2172daa   \n3  309fcf77415a3661ae83e027f7e5f05dad786e44   \n4  309fcf77415a3661ae83e027f7e5f05dad786e44   \n\n                      Certification.Contact unit_of_measurement  \\\n0  19fef5a731de2db57d16da10287413f5f99bc2dd                   m   \n1  19fef5a731de2db57d16da10287413f5f99bc2dd                   m   \n2  0878a7d4b9d35ddbf0fe2ce69a2062cceb45a660                   m   \n3  19fef5a731de2db57d16da10287413f5f99bc2dd                   m   \n4  19fef5a731de2db57d16da10287413f5f99bc2dd                   m   \n\n  altitude_low_meters altitude_high_meters altitude_mean_meters flavor_rating  \\\n0              1950.0               2200.0               2075.0          4.42   \n1              1950.0               2200.0               2075.0          4.34   \n2              1600.0               1800.0               1700.0          4.25   \n3              1800.0               2200.0               2000.0          4.29   \n4              1950.0               2200.0               2075.0          4.25   \n\n  grading_year  \n0         2015  \n1         2015  \n2         2010  \n3         2015  \n4         2015  \n\n[5 rows x 46 columns]",
      "text/html": "<div>\n<style scoped>\n    .dataframe tbody tr th:only-of-type {\n        vertical-align: middle;\n    }\n\n    .dataframe tbody tr th {\n        vertical-align: top;\n    }\n\n    .dataframe thead th {\n        text-align: right;\n    }\n</style>\n<table border=\"1\" class=\"dataframe\">\n  <thead>\n    <tr style=\"text-align: right;\">\n      <th></th>\n      <th>Unnamed: 0</th>\n      <th>Species</th>\n      <th>Owner</th>\n      <th>country_of_origin</th>\n      <th>Farm.Name</th>\n      <th>Lot.Number</th>\n      <th>Mill</th>\n      <th>ICO.Number</th>\n      <th>company</th>\n      <th>Altitude</th>\n      <th>...</th>\n      <th>Expiration</th>\n      <th>Certification.Body</th>\n      <th>Certification.Address</th>\n      <th>Certification.Contact</th>\n      <th>unit_of_measurement</th>\n      <th>altitude_low_meters</th>\n      <th>altitude_high_meters</th>\n      <th>altitude_mean_meters</th>\n      <th>flavor_rating</th>\n      <th>grading_year</th>\n    </tr>\n  </thead>\n  <tbody>\n    <tr>\n      <th>0</th>\n      <td>1</td>\n      <td>Arabica</td>\n      <td>metad plc</td>\n      <td>Ethiopia</td>\n      <td>metad plc</td>\n      <td>NaN</td>\n      <td>metad plc</td>\n      <td>2014/2015</td>\n      <td>metad agricultural developmet plc</td>\n      <td>1950-2200</td>\n      <td>...</td>\n      <td>April 3rd, 2016</td>\n      <td>METAD Agricultural Development plc</td>\n      <td>309fcf77415a3661ae83e027f7e5f05dad786e44</td>\n      <td>19fef5a731de2db57d16da10287413f5f99bc2dd</td>\n      <td>m</td>\n      <td>1950.0</td>\n      <td>2200.0</td>\n      <td>2075.0</td>\n      <td>4.42</td>\n      <td>2015</td>\n    </tr>\n    <tr>\n      <th>1</th>\n      <td>2</td>\n      <td>Arabica</td>\n      <td>metad plc</td>\n      <td>Ethiopia</td>\n      <td>metad plc</td>\n      <td>NaN</td>\n      <td>metad plc</td>\n      <td>2014/2015</td>\n      <td>metad agricultural developmet plc</td>\n      <td>1950-2200</td>\n      <td>...</td>\n      <td>April 3rd, 2016</td>\n      <td>METAD Agricultural Development plc</td>\n      <td>309fcf77415a3661ae83e027f7e5f05dad786e44</td>\n      <td>19fef5a731de2db57d16da10287413f5f99bc2dd</td>\n      <td>m</td>\n      <td>1950.0</td>\n      <td>2200.0</td>\n      <td>2075.0</td>\n      <td>4.34</td>\n      <td>2015</td>\n    </tr>\n    <tr>\n      <th>2</th>\n      <td>3</td>\n      <td>Arabica</td>\n      <td>grounds for health admin</td>\n      <td>Guatemala</td>\n      <td>san marcos barrancas \"san cristobal cuch</td>\n      <td>NaN</td>\n      <td>NaN</td>\n      <td>NaN</td>\n      <td>NaN</td>\n      <td>1600 - 1800 m</td>\n      <td>...</td>\n      <td>May 31st, 2011</td>\n      <td>Specialty Coffee Association</td>\n      <td>36d0d00a3724338ba7937c52a378d085f2172daa</td>\n      <td>0878a7d4b9d35ddbf0fe2ce69a2062cceb45a660</td>\n      <td>m</td>\n      <td>1600.0</td>\n      <td>1800.0</td>\n      <td>1700.0</td>\n      <td>4.25</td>\n      <td>2010</td>\n    </tr>\n    <tr>\n      <th>3</th>\n      <td>4</td>\n      <td>Arabica</td>\n      <td>yidnekachew dabessa</td>\n      <td>Ethiopia</td>\n      <td>yidnekachew dabessa coffee plantation</td>\n      <td>NaN</td>\n      <td>wolensu</td>\n      <td>NaN</td>\n      <td>yidnekachew debessa coffee plantation</td>\n      <td>1800-2200</td>\n      <td>...</td>\n      <td>March 25th, 2016</td>\n      <td>METAD Agricultural Development plc</td>\n      <td>309fcf77415a3661ae83e027f7e5f05dad786e44</td>\n      <td>19fef5a731de2db57d16da10287413f5f99bc2dd</td>\n      <td>m</td>\n      <td>1800.0</td>\n      <td>2200.0</td>\n      <td>2000.0</td>\n      <td>4.29</td>\n      <td>2015</td>\n    </tr>\n    <tr>\n      <th>4</th>\n      <td>5</td>\n      <td>Arabica</td>\n      <td>metad plc</td>\n      <td>Ethiopia</td>\n      <td>metad plc</td>\n      <td>NaN</td>\n      <td>metad plc</td>\n      <td>2014/2015</td>\n      <td>metad agricultural developmet plc</td>\n      <td>1950-2200</td>\n      <td>...</td>\n      <td>April 3rd, 2016</td>\n      <td>METAD Agricultural Development plc</td>\n      <td>309fcf77415a3661ae83e027f7e5f05dad786e44</td>\n      <td>19fef5a731de2db57d16da10287413f5f99bc2dd</td>\n      <td>m</td>\n      <td>1950.0</td>\n      <td>2200.0</td>\n      <td>2075.0</td>\n      <td>4.25</td>\n      <td>2015</td>\n    </tr>\n  </tbody>\n</table>\n<p>5 rows × 46 columns</p>\n</div>"
     },
     "metadata": {},
     "execution_count": 5
    }
   ],
   "source": [
    "coff_df.head()"
   ]
  },
  {
   "cell_type": "code",
   "execution_count": 6,
   "metadata": {},
   "outputs": [
    {
     "output_type": "execute_result",
     "data": {
      "text/plain": "                                    company country_of_origin  flavor_rating  \\\n0         metad agricultural developmet plc          Ethiopia           4.42   \n1         metad agricultural developmet plc          Ethiopia           4.34   \n2                                       NaN         Guatemala           4.25   \n3     yidnekachew debessa coffee plantation          Ethiopia           4.29   \n4         metad agricultural developmet plc          Ethiopia           4.25   \n...                                     ...               ...            ...   \n1306                              terra mia            Mexico           3.42   \n1307                           haiti coffee             Haiti           3.29   \n1308               exportadora atlantic s.a         Nicaragua           3.29   \n1309                                unicafe         Guatemala           3.34   \n1310                      cigrah s.a de c.v          Honduras           0.00   \n\n      grading_year  \n0             2015  \n1             2015  \n2             2010  \n3             2015  \n4             2015  \n...            ...  \n1306          2012  \n1307          2012  \n1308          2017  \n1309          2012  \n1310          2017  \n\n[1311 rows x 4 columns]",
      "text/html": "<div>\n<style scoped>\n    .dataframe tbody tr th:only-of-type {\n        vertical-align: middle;\n    }\n\n    .dataframe tbody tr th {\n        vertical-align: top;\n    }\n\n    .dataframe thead th {\n        text-align: right;\n    }\n</style>\n<table border=\"1\" class=\"dataframe\">\n  <thead>\n    <tr style=\"text-align: right;\">\n      <th></th>\n      <th>company</th>\n      <th>country_of_origin</th>\n      <th>flavor_rating</th>\n      <th>grading_year</th>\n    </tr>\n  </thead>\n  <tbody>\n    <tr>\n      <th>0</th>\n      <td>metad agricultural developmet plc</td>\n      <td>Ethiopia</td>\n      <td>4.42</td>\n      <td>2015</td>\n    </tr>\n    <tr>\n      <th>1</th>\n      <td>metad agricultural developmet plc</td>\n      <td>Ethiopia</td>\n      <td>4.34</td>\n      <td>2015</td>\n    </tr>\n    <tr>\n      <th>2</th>\n      <td>NaN</td>\n      <td>Guatemala</td>\n      <td>4.25</td>\n      <td>2010</td>\n    </tr>\n    <tr>\n      <th>3</th>\n      <td>yidnekachew debessa coffee plantation</td>\n      <td>Ethiopia</td>\n      <td>4.29</td>\n      <td>2015</td>\n    </tr>\n    <tr>\n      <th>4</th>\n      <td>metad agricultural developmet plc</td>\n      <td>Ethiopia</td>\n      <td>4.25</td>\n      <td>2015</td>\n    </tr>\n    <tr>\n      <th>...</th>\n      <td>...</td>\n      <td>...</td>\n      <td>...</td>\n      <td>...</td>\n    </tr>\n    <tr>\n      <th>1306</th>\n      <td>terra mia</td>\n      <td>Mexico</td>\n      <td>3.42</td>\n      <td>2012</td>\n    </tr>\n    <tr>\n      <th>1307</th>\n      <td>haiti coffee</td>\n      <td>Haiti</td>\n      <td>3.29</td>\n      <td>2012</td>\n    </tr>\n    <tr>\n      <th>1308</th>\n      <td>exportadora atlantic s.a</td>\n      <td>Nicaragua</td>\n      <td>3.29</td>\n      <td>2017</td>\n    </tr>\n    <tr>\n      <th>1309</th>\n      <td>unicafe</td>\n      <td>Guatemala</td>\n      <td>3.34</td>\n      <td>2012</td>\n    </tr>\n    <tr>\n      <th>1310</th>\n      <td>cigrah s.a de c.v</td>\n      <td>Honduras</td>\n      <td>0.00</td>\n      <td>2017</td>\n    </tr>\n  </tbody>\n</table>\n<p>1311 rows × 4 columns</p>\n</div>"
     },
     "metadata": {},
     "execution_count": 6
    }
   ],
   "source": [
    "coff_df[[\"company\", \"country_of_origin\", \"flavor_rating\", \"grading_year\"]]"
   ]
  },
  {
   "cell_type": "code",
   "execution_count": 7,
   "metadata": {},
   "outputs": [],
   "source": [
    "df = coff_df[[\"company\", \"country_of_origin\", \"flavor_rating\", \"grading_year\"]]"
   ]
  },
  {
   "cell_type": "code",
   "execution_count": 8,
   "metadata": {},
   "outputs": [
    {
     "output_type": "execute_result",
     "data": {
      "text/plain": "                                    company country_of_origin  flavor_rating  \\\n0         metad agricultural developmet plc          Ethiopia           4.42   \n1         metad agricultural developmet plc          Ethiopia           4.34   \n2                                       NaN         Guatemala           4.25   \n3     yidnekachew debessa coffee plantation          Ethiopia           4.29   \n4         metad agricultural developmet plc          Ethiopia           4.25   \n...                                     ...               ...            ...   \n1306                              terra mia            Mexico           3.42   \n1307                           haiti coffee             Haiti           3.29   \n1308               exportadora atlantic s.a         Nicaragua           3.29   \n1309                                unicafe         Guatemala           3.34   \n1310                      cigrah s.a de c.v          Honduras           0.00   \n\n      grading_year  \n0             2015  \n1             2015  \n2             2010  \n3             2015  \n4             2015  \n...            ...  \n1306          2012  \n1307          2012  \n1308          2017  \n1309          2012  \n1310          2017  \n\n[1311 rows x 4 columns]",
      "text/html": "<div>\n<style scoped>\n    .dataframe tbody tr th:only-of-type {\n        vertical-align: middle;\n    }\n\n    .dataframe tbody tr th {\n        vertical-align: top;\n    }\n\n    .dataframe thead th {\n        text-align: right;\n    }\n</style>\n<table border=\"1\" class=\"dataframe\">\n  <thead>\n    <tr style=\"text-align: right;\">\n      <th></th>\n      <th>company</th>\n      <th>country_of_origin</th>\n      <th>flavor_rating</th>\n      <th>grading_year</th>\n    </tr>\n  </thead>\n  <tbody>\n    <tr>\n      <th>0</th>\n      <td>metad agricultural developmet plc</td>\n      <td>Ethiopia</td>\n      <td>4.42</td>\n      <td>2015</td>\n    </tr>\n    <tr>\n      <th>1</th>\n      <td>metad agricultural developmet plc</td>\n      <td>Ethiopia</td>\n      <td>4.34</td>\n      <td>2015</td>\n    </tr>\n    <tr>\n      <th>2</th>\n      <td>NaN</td>\n      <td>Guatemala</td>\n      <td>4.25</td>\n      <td>2010</td>\n    </tr>\n    <tr>\n      <th>3</th>\n      <td>yidnekachew debessa coffee plantation</td>\n      <td>Ethiopia</td>\n      <td>4.29</td>\n      <td>2015</td>\n    </tr>\n    <tr>\n      <th>4</th>\n      <td>metad agricultural developmet plc</td>\n      <td>Ethiopia</td>\n      <td>4.25</td>\n      <td>2015</td>\n    </tr>\n    <tr>\n      <th>...</th>\n      <td>...</td>\n      <td>...</td>\n      <td>...</td>\n      <td>...</td>\n    </tr>\n    <tr>\n      <th>1306</th>\n      <td>terra mia</td>\n      <td>Mexico</td>\n      <td>3.42</td>\n      <td>2012</td>\n    </tr>\n    <tr>\n      <th>1307</th>\n      <td>haiti coffee</td>\n      <td>Haiti</td>\n      <td>3.29</td>\n      <td>2012</td>\n    </tr>\n    <tr>\n      <th>1308</th>\n      <td>exportadora atlantic s.a</td>\n      <td>Nicaragua</td>\n      <td>3.29</td>\n      <td>2017</td>\n    </tr>\n    <tr>\n      <th>1309</th>\n      <td>unicafe</td>\n      <td>Guatemala</td>\n      <td>3.34</td>\n      <td>2012</td>\n    </tr>\n    <tr>\n      <th>1310</th>\n      <td>cigrah s.a de c.v</td>\n      <td>Honduras</td>\n      <td>0.00</td>\n      <td>2017</td>\n    </tr>\n  </tbody>\n</table>\n<p>1311 rows × 4 columns</p>\n</div>"
     },
     "metadata": {},
     "execution_count": 8
    }
   ],
   "source": [
    "df"
   ]
  },
  {
   "cell_type": "code",
   "execution_count": 9,
   "metadata": {},
   "outputs": [],
   "source": [
    "df.to_csv(\"Coff.csv\", index=False, header=True)"
   ]
  },
  {
   "cell_type": "code",
   "execution_count": null,
   "metadata": {},
   "outputs": [],
   "source": []
  }
 ],
 "metadata": {
  "language_info": {
   "codemirror_mode": {
    "name": "ipython",
    "version": 3
   },
   "file_extension": ".py",
   "mimetype": "text/x-python",
   "name": "python",
   "nbconvert_exporter": "python",
   "pygments_lexer": "ipython3",
   "version": "3.7.3-final"
  },
  "orig_nbformat": 2,
  "kernelspec": {
   "name": "python37364bita3d47ef618ba461d93a3de57eabcbff6",
   "display_name": "Python 3.7.3 64-bit"
  }
 },
 "nbformat": 4,
 "nbformat_minor": 2
}