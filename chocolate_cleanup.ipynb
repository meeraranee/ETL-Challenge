{
 "cells": [
  {
   "cell_type": "code",
   "execution_count": 1,
   "metadata": {},
   "outputs": [],
   "source": [
    "import pandas as pd "
   ]
  },
  {
   "cell_type": "code",
   "execution_count": 2,
   "metadata": {},
   "outputs": [],
   "source": [
    "path = \"CHOCOLATE.csv\""
   ]
  },
  {
   "cell_type": "code",
   "execution_count": 3,
   "metadata": {},
   "outputs": [],
   "source": [
    "choc_df = pd.read_csv(path)"
   ]
  },
  {
   "cell_type": "code",
   "execution_count": 4,
   "metadata": {},
   "outputs": [
    {
     "output_type": "execute_result",
     "data": {
      "text/plain": "    company Specific Bean Origin or Bar Name   REF  grading_year  \\\n0  A. Morin                      Agua Grande  1876          2016   \n1  A. Morin                            Kpime  1676          2015   \n2  A. Morin                           Atsane  1676          2015   \n3  A. Morin                            Akata  1680          2015   \n4  A. Morin                           Quilla  1704          2015   \n\n  Cocoa Percent Company Location  flavor_rating Bean Type country_of_origin  \\\n0           63%           France           3.75                    Sao Tome   \n1           70%           France           2.75                        Togo   \n2           70%           France           3.00                        Togo   \n3           70%           France           3.50                        Togo   \n4           70%           France           3.50                        Peru   \n\n   Flavor Rating (1-10)  \n0                   7.5  \n1                   5.5  \n2                   6.0  \n3                   7.0  \n4                   7.0  ",
      "text/html": "<div>\n<style scoped>\n    .dataframe tbody tr th:only-of-type {\n        vertical-align: middle;\n    }\n\n    .dataframe tbody tr th {\n        vertical-align: top;\n    }\n\n    .dataframe thead th {\n        text-align: right;\n    }\n</style>\n<table border=\"1\" class=\"dataframe\">\n  <thead>\n    <tr style=\"text-align: right;\">\n      <th></th>\n      <th>company</th>\n      <th>Specific Bean Origin or Bar Name</th>\n      <th>REF</th>\n      <th>grading_year</th>\n      <th>Cocoa Percent</th>\n      <th>Company Location</th>\n      <th>flavor_rating</th>\n      <th>Bean Type</th>\n      <th>country_of_origin</th>\n      <th>Flavor Rating (1-10)</th>\n    </tr>\n  </thead>\n  <tbody>\n    <tr>\n      <th>0</th>\n      <td>A. Morin</td>\n      <td>Agua Grande</td>\n      <td>1876</td>\n      <td>2016</td>\n      <td>63%</td>\n      <td>France</td>\n      <td>3.75</td>\n      <td></td>\n      <td>Sao Tome</td>\n      <td>7.5</td>\n    </tr>\n    <tr>\n      <th>1</th>\n      <td>A. Morin</td>\n      <td>Kpime</td>\n      <td>1676</td>\n      <td>2015</td>\n      <td>70%</td>\n      <td>France</td>\n      <td>2.75</td>\n      <td></td>\n      <td>Togo</td>\n      <td>5.5</td>\n    </tr>\n    <tr>\n      <th>2</th>\n      <td>A. Morin</td>\n      <td>Atsane</td>\n      <td>1676</td>\n      <td>2015</td>\n      <td>70%</td>\n      <td>France</td>\n      <td>3.00</td>\n      <td></td>\n      <td>Togo</td>\n      <td>6.0</td>\n    </tr>\n    <tr>\n      <th>3</th>\n      <td>A. Morin</td>\n      <td>Akata</td>\n      <td>1680</td>\n      <td>2015</td>\n      <td>70%</td>\n      <td>France</td>\n      <td>3.50</td>\n      <td></td>\n      <td>Togo</td>\n      <td>7.0</td>\n    </tr>\n    <tr>\n      <th>4</th>\n      <td>A. Morin</td>\n      <td>Quilla</td>\n      <td>1704</td>\n      <td>2015</td>\n      <td>70%</td>\n      <td>France</td>\n      <td>3.50</td>\n      <td></td>\n      <td>Peru</td>\n      <td>7.0</td>\n    </tr>\n  </tbody>\n</table>\n</div>"
     },
     "metadata": {},
     "execution_count": 4
    }
   ],
   "source": [
    "choc_df.head()"
   ]
  },
  {
   "cell_type": "code",
   "execution_count": 5,
   "metadata": {},
   "outputs": [
    {
     "output_type": "execute_result",
     "data": {
      "text/plain": "       company country_of_origin  flavor_rating  grading_year\n0     A. Morin          Sao Tome           3.75          2016\n1     A. Morin              Togo           2.75          2015\n2     A. Morin              Togo           3.00          2015\n3     A. Morin              Togo           3.50          2015\n4     A. Morin              Peru           3.50          2015\n...        ...               ...            ...           ...\n1790    Zotter              Peru           3.75          2011\n1791    Zotter             Congo           3.00          2011\n1792    Zotter             India           3.50          2011\n1793    Zotter             India           3.25          2011\n1794    Zotter            Brazil           3.00          2010\n\n[1795 rows x 4 columns]",
      "text/html": "<div>\n<style scoped>\n    .dataframe tbody tr th:only-of-type {\n        vertical-align: middle;\n    }\n\n    .dataframe tbody tr th {\n        vertical-align: top;\n    }\n\n    .dataframe thead th {\n        text-align: right;\n    }\n</style>\n<table border=\"1\" class=\"dataframe\">\n  <thead>\n    <tr style=\"text-align: right;\">\n      <th></th>\n      <th>company</th>\n      <th>country_of_origin</th>\n      <th>flavor_rating</th>\n      <th>grading_year</th>\n    </tr>\n  </thead>\n  <tbody>\n    <tr>\n      <th>0</th>\n      <td>A. Morin</td>\n      <td>Sao Tome</td>\n      <td>3.75</td>\n      <td>2016</td>\n    </tr>\n    <tr>\n      <th>1</th>\n      <td>A. Morin</td>\n      <td>Togo</td>\n      <td>2.75</td>\n      <td>2015</td>\n    </tr>\n    <tr>\n      <th>2</th>\n      <td>A. Morin</td>\n      <td>Togo</td>\n      <td>3.00</td>\n      <td>2015</td>\n    </tr>\n    <tr>\n      <th>3</th>\n      <td>A. Morin</td>\n      <td>Togo</td>\n      <td>3.50</td>\n      <td>2015</td>\n    </tr>\n    <tr>\n      <th>4</th>\n      <td>A. Morin</td>\n      <td>Peru</td>\n      <td>3.50</td>\n      <td>2015</td>\n    </tr>\n    <tr>\n      <th>...</th>\n      <td>...</td>\n      <td>...</td>\n      <td>...</td>\n      <td>...</td>\n    </tr>\n    <tr>\n      <th>1790</th>\n      <td>Zotter</td>\n      <td>Peru</td>\n      <td>3.75</td>\n      <td>2011</td>\n    </tr>\n    <tr>\n      <th>1791</th>\n      <td>Zotter</td>\n      <td>Congo</td>\n      <td>3.00</td>\n      <td>2011</td>\n    </tr>\n    <tr>\n      <th>1792</th>\n      <td>Zotter</td>\n      <td>India</td>\n      <td>3.50</td>\n      <td>2011</td>\n    </tr>\n    <tr>\n      <th>1793</th>\n      <td>Zotter</td>\n      <td>India</td>\n      <td>3.25</td>\n      <td>2011</td>\n    </tr>\n    <tr>\n      <th>1794</th>\n      <td>Zotter</td>\n      <td>Brazil</td>\n      <td>3.00</td>\n      <td>2010</td>\n    </tr>\n  </tbody>\n</table>\n<p>1795 rows × 4 columns</p>\n</div>"
     },
     "metadata": {},
     "execution_count": 5
    }
   ],
   "source": [
    "choc_df[[\"company\", \"country_of_origin\", \"flavor_rating\", \"grading_year\"]]"
   ]
  },
  {
   "cell_type": "code",
   "execution_count": 6,
   "metadata": {},
   "outputs": [],
   "source": [
    "df = choc_df[[\"company\", \"country_of_origin\", \"flavor_rating\", \"grading_year\"]]"
   ]
  },
  {
   "cell_type": "code",
   "execution_count": 7,
   "metadata": {},
   "outputs": [
    {
     "output_type": "execute_result",
     "data": {
      "text/plain": "       company country_of_origin  flavor_rating  grading_year\n0     A. Morin          Sao Tome           3.75          2016\n1     A. Morin              Togo           2.75          2015\n2     A. Morin              Togo           3.00          2015\n3     A. Morin              Togo           3.50          2015\n4     A. Morin              Peru           3.50          2015\n...        ...               ...            ...           ...\n1790    Zotter              Peru           3.75          2011\n1791    Zotter             Congo           3.00          2011\n1792    Zotter             India           3.50          2011\n1793    Zotter             India           3.25          2011\n1794    Zotter            Brazil           3.00          2010\n\n[1795 rows x 4 columns]",
      "text/html": "<div>\n<style scoped>\n    .dataframe tbody tr th:only-of-type {\n        vertical-align: middle;\n    }\n\n    .dataframe tbody tr th {\n        vertical-align: top;\n    }\n\n    .dataframe thead th {\n        text-align: right;\n    }\n</style>\n<table border=\"1\" class=\"dataframe\">\n  <thead>\n    <tr style=\"text-align: right;\">\n      <th></th>\n      <th>company</th>\n      <th>country_of_origin</th>\n      <th>flavor_rating</th>\n      <th>grading_year</th>\n    </tr>\n  </thead>\n  <tbody>\n    <tr>\n      <th>0</th>\n      <td>A. Morin</td>\n      <td>Sao Tome</td>\n      <td>3.75</td>\n      <td>2016</td>\n    </tr>\n    <tr>\n      <th>1</th>\n      <td>A. Morin</td>\n      <td>Togo</td>\n      <td>2.75</td>\n      <td>2015</td>\n    </tr>\n    <tr>\n      <th>2</th>\n      <td>A. Morin</td>\n      <td>Togo</td>\n      <td>3.00</td>\n      <td>2015</td>\n    </tr>\n    <tr>\n      <th>3</th>\n      <td>A. Morin</td>\n      <td>Togo</td>\n      <td>3.50</td>\n      <td>2015</td>\n    </tr>\n    <tr>\n      <th>4</th>\n      <td>A. Morin</td>\n      <td>Peru</td>\n      <td>3.50</td>\n      <td>2015</td>\n    </tr>\n    <tr>\n      <th>...</th>\n      <td>...</td>\n      <td>...</td>\n      <td>...</td>\n      <td>...</td>\n    </tr>\n    <tr>\n      <th>1790</th>\n      <td>Zotter</td>\n      <td>Peru</td>\n      <td>3.75</td>\n      <td>2011</td>\n    </tr>\n    <tr>\n      <th>1791</th>\n      <td>Zotter</td>\n      <td>Congo</td>\n      <td>3.00</td>\n      <td>2011</td>\n    </tr>\n    <tr>\n      <th>1792</th>\n      <td>Zotter</td>\n      <td>India</td>\n      <td>3.50</td>\n      <td>2011</td>\n    </tr>\n    <tr>\n      <th>1793</th>\n      <td>Zotter</td>\n      <td>India</td>\n      <td>3.25</td>\n      <td>2011</td>\n    </tr>\n    <tr>\n      <th>1794</th>\n      <td>Zotter</td>\n      <td>Brazil</td>\n      <td>3.00</td>\n      <td>2010</td>\n    </tr>\n  </tbody>\n</table>\n<p>1795 rows × 4 columns</p>\n</div>"
     },
     "metadata": {},
     "execution_count": 7
    }
   ],
   "source": [
    "df"
   ]
  },
  {
   "cell_type": "code",
   "execution_count": 8,
   "metadata": {},
   "outputs": [],
   "source": [
    "df.to_csv(\"Choc.csv\", index=False, header=True)"
   ]
  },
  {
   "cell_type": "code",
   "execution_count": null,
   "metadata": {},
   "outputs": [],
   "source": []
  }
 ],
 "metadata": {
  "language_info": {
   "codemirror_mode": {
    "name": "ipython",
    "version": 3
   },
   "file_extension": ".py",
   "mimetype": "text/x-python",
   "name": "python",
   "nbconvert_exporter": "python",
   "pygments_lexer": "ipython3",
   "version": "3.7.3-final"
  },
  "orig_nbformat": 2,
  "kernelspec": {
   "name": "python37364bita3d47ef618ba461d93a3de57eabcbff6",
   "display_name": "Python 3.7.3 64-bit"
  }
 },
 "nbformat": 4,
 "nbformat_minor": 2
}
